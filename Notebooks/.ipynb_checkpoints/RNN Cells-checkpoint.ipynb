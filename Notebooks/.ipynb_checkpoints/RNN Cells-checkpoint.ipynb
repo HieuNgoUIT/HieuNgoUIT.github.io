{
 "cells": [
  {
   "cell_type": "code",
   "execution_count": 3,
   "metadata": {},
   "outputs": [],
   "source": [
    "import tensorflow as tf\n",
    "import numpy as np"
   ]
  },
  {
   "cell_type": "code",
   "execution_count": 60,
   "metadata": {},
   "outputs": [],
   "source": [
    "def weight_initialize():\n",
    "    parameters = {}\n",
    "    parameters['Wax'] = np.random.random(feature, a_feature) # X.shape(m, feature)\n",
    "    parameters['Waa'] = np.random.random(a_feature, )   #A.shape (m, a_unit)\n",
    "    #parameters['ba'] = np.random.random(a_feature)\n",
    "    \n",
    "    parameters['Way'] = np.random.random(a_feature, y_feature)\n",
    "    parameters['by'] = np.random.random(y_feature)\n",
    "    return parameters"
   ]
  },
  {
   "cell_type": "code",
   "execution_count": null,
   "metadata": {},
   "outputs": [],
   "source": []
  },
  {
   "cell_type": "code",
   "execution_count": null,
   "metadata": {},
   "outputs": [],
   "source": []
  },
  {
   "cell_type": "code",
   "execution_count": 128,
   "metadata": {},
   "outputs": [],
   "source": [
    "inputs = np.random.random([32, 10, 8]).astype(np.float32) #[batch, timesteps, feature]\n",
    "simple_rnn = tf.keras.layers.SimpleRNN(4)\n",
    "\n",
    "output = simple_rnn(inputs)  # The output has shape `[32, 4]`.\n",
    "\n",
    "simple_rnn = tf.keras.layers.SimpleRNN(\n",
    "    4, return_sequences=True, return_state=True)\n",
    "\n",
    "# whole_sequence_output has shape `[32, 10, 4]`.\n",
    "# final_state has shape `[32, 4]`.\n",
    "whole_sequence_output, final_state = simple_rnn(inputs)"
   ]
  },
  {
   "cell_type": "code",
   "execution_count": 146,
   "metadata": {},
   "outputs": [
    {
     "name": "stdout",
     "output_type": "stream",
     "text": [
      "(10, 4)\n",
      "(10, 4)\n",
      "(10, 4)\n",
      "(10, 4)\n",
      "(10, 4)\n",
      "(10, 4)\n",
      "(10, 4)\n",
      "(10, 4)\n",
      "(10, 4)\n",
      "(10, 4)\n",
      "(10, 4)\n",
      "(10, 4)\n",
      "(10, 4)\n",
      "(10, 4)\n",
      "(10, 4)\n",
      "(10, 4)\n",
      "(10, 4)\n",
      "(10, 4)\n",
      "(10, 4)\n",
      "(10, 4)\n",
      "(10, 4)\n",
      "(10, 4)\n",
      "(10, 4)\n",
      "(10, 4)\n",
      "(10, 4)\n",
      "(10, 4)\n",
      "(10, 4)\n",
      "(10, 4)\n",
      "(10, 4)\n",
      "(10, 4)\n",
      "(10, 4)\n",
      "(10, 4)\n",
      "32\n"
     ]
    }
   ],
   "source": [
    "for i in whole_sequence_output:\n",
    "    print(i.shape)\n",
    "print(len(whole_sequence_output))"
   ]
  },
  {
   "cell_type": "code",
   "execution_count": 81,
   "metadata": {},
   "outputs": [
    {
     "name": "stdout",
     "output_type": "stream",
     "text": [
      "(8, 4)\n",
      "(4, 4)\n",
      "(4,)\n"
     ]
    }
   ],
   "source": [
    "weights = simple_rnn.get_weights()\n",
    "for i in weights:\n",
    "    print(i.shape)"
   ]
  },
  {
   "cell_type": "code",
   "execution_count": 80,
   "metadata": {},
   "outputs": [
    {
     "name": "stdout",
     "output_type": "stream",
     "text": [
      "(32, 4)\n",
      "(32, 10, 4)\n"
     ]
    }
   ],
   "source": [
    "print(final_state.shape)\n",
    "print(whole_sequence_output.shape)"
   ]
  },
  {
   "cell_type": "code",
   "execution_count": 90,
   "metadata": {},
   "outputs": [
    {
     "name": "stdout",
     "output_type": "stream",
     "text": [
      "(8, 4)\n",
      "(4, 4)\n",
      "(4,)\n"
     ]
    }
   ],
   "source": [
    "parameters = {}\n",
    "keras_Wax = weights[0]\n",
    "keras_Waa = weights[1]\n",
    "keras_Way = weights[2]\n",
    "parameters['Waa'] = keras_Waa\n",
    "parameters['Wax'] = keras_Wax\n",
    "parameters['Way'] = keras_Way\n",
    "print(keras_Wax.shape)\n",
    "print(keras_Waa.shape)\n",
    "print(keras_Way.shape)"
   ]
  },
  {
   "cell_type": "code",
   "execution_count": 58,
   "metadata": {},
   "outputs": [],
   "source": [
    "def mysm(x):\n",
    "    return np.exp(x)/sum(np.exp(x))"
   ]
  },
  {
   "cell_type": "code",
   "execution_count": 141,
   "metadata": {},
   "outputs": [],
   "source": [
    "def my_rnn_cell(previous_a, x, parameters):\n",
    "    Waa = parameters['Waa']\n",
    "    Wax = parameters['Wax']\n",
    "    Way = parameters['Way']\n",
    "    print('test',keras_Wax.shape)\n",
    "    print('test',keras_Waa.shape)\n",
    "    print('test',keras_Way.shape)\n",
    "    #ba = parameters['ba']\n",
    "    #by = parameters['by']\n",
    "    temp_a = np.dot(x,Wax) # (32, 8) * (8, 4)  =(32, 4) \n",
    "    temp_b = np.dot(previous_a, Waa) # (32,4) *  (4, 4) = (32, 4)\n",
    "    hiddenstate = np.tanh( temp_a+temp_b  )#+ ba)\n",
    "    y = mysm(np.dot(hiddenstate,Way))#+ by)\n",
    "    return hiddenstate, y"
   ]
  },
  {
   "cell_type": "code",
   "execution_count": 147,
   "metadata": {},
   "outputs": [],
   "source": [
    "def rnn_foward(inp):\n",
    "    timestep = 10\n",
    "    a_prev = np.zeros((32,4))\n",
    "    for t in range(timestep):\n",
    "        print(a_prev.shape)\n",
    "        print(inp[:,t,:].shape)\n",
    "        t_hiddenstate, t_y = my_rnn_cell(a_prev, inp[:,t,:], parameters)\n",
    "        print(t_hiddenstate.shape)\n",
    "        a_prev = t_hiddenstate    \n",
    "    #print(t_y)"
   ]
  },
  {
   "cell_type": "code",
   "execution_count": 148,
   "metadata": {},
   "outputs": [
    {
     "name": "stdout",
     "output_type": "stream",
     "text": [
      "(32, 4)\n",
      "(32, 8)\n",
      "test (8, 4)\n",
      "test (4, 4)\n",
      "test (4,)\n",
      "(32, 4)\n",
      "(32, 4)\n",
      "(32, 8)\n",
      "test (8, 4)\n",
      "test (4, 4)\n",
      "test (4,)\n",
      "(32, 4)\n",
      "(32, 4)\n",
      "(32, 8)\n",
      "test (8, 4)\n",
      "test (4, 4)\n",
      "test (4,)\n",
      "(32, 4)\n",
      "(32, 4)\n",
      "(32, 8)\n",
      "test (8, 4)\n",
      "test (4, 4)\n",
      "test (4,)\n",
      "(32, 4)\n",
      "(32, 4)\n",
      "(32, 8)\n",
      "test (8, 4)\n",
      "test (4, 4)\n",
      "test (4,)\n",
      "(32, 4)\n",
      "(32, 4)\n",
      "(32, 8)\n",
      "test (8, 4)\n",
      "test (4, 4)\n",
      "test (4,)\n",
      "(32, 4)\n",
      "(32, 4)\n",
      "(32, 8)\n",
      "test (8, 4)\n",
      "test (4, 4)\n",
      "test (4,)\n",
      "(32, 4)\n",
      "(32, 4)\n",
      "(32, 8)\n",
      "test (8, 4)\n",
      "test (4, 4)\n",
      "test (4,)\n",
      "(32, 4)\n",
      "(32, 4)\n",
      "(32, 8)\n",
      "test (8, 4)\n",
      "test (4, 4)\n",
      "test (4,)\n",
      "(32, 4)\n",
      "(32, 4)\n",
      "(32, 8)\n",
      "test (8, 4)\n",
      "test (4, 4)\n",
      "test (4,)\n",
      "(32, 4)\n"
     ]
    }
   ],
   "source": [
    "rnn_foward(inputs)"
   ]
  },
  {
   "cell_type": "code",
   "execution_count": null,
   "metadata": {},
   "outputs": [],
   "source": []
  },
  {
   "cell_type": "code",
   "execution_count": null,
   "metadata": {},
   "outputs": [],
   "source": []
  }
 ],
 "metadata": {
  "kernelspec": {
   "display_name": "Python 3",
   "language": "python",
   "name": "python3"
  },
  "language_info": {
   "codemirror_mode": {
    "name": "ipython",
    "version": 3
   },
   "file_extension": ".py",
   "mimetype": "text/x-python",
   "name": "python",
   "nbconvert_exporter": "python",
   "pygments_lexer": "ipython3",
   "version": "3.7.4"
  }
 },
 "nbformat": 4,
 "nbformat_minor": 2
}
