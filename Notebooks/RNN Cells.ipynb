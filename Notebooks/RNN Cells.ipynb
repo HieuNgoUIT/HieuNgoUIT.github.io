{
 "cells": [
  {
   "cell_type": "code",
   "execution_count": 14,
   "metadata": {},
   "outputs": [],
   "source": [
    "from keras.layers import SimpleRNNCell\n",
    "import numpy as np"
   ]
  },
  {
   "cell_type": "code",
   "execution_count": 28,
   "metadata": {},
   "outputs": [],
   "source": [
    "myRNNCell = SimpleRNNCell(1)"
   ]
  },
  {
   "cell_type": "code",
   "execution_count": 13,
   "metadata": {},
   "outputs": [
    {
     "data": {
      "text/plain": [
       "<tensorflow.python.keras.layers.recurrent.SimpleRNNCell at 0x7ff298add358>"
      ]
     },
     "execution_count": 13,
     "metadata": {},
     "output_type": "execute_result"
    }
   ],
   "source": [
    "myRNNCell"
   ]
  },
  {
   "cell_type": "code",
   "execution_count": 20,
   "metadata": {},
   "outputs": [
    {
     "data": {
      "text/plain": [
       "(2, 300)"
      ]
     },
     "execution_count": 20,
     "metadata": {},
     "output_type": "execute_result"
    }
   ],
   "source": [
    "simple_input = np.random.random([2,300])\n",
    "simple_input.shape"
   ]
  },
  {
   "cell_type": "code",
   "execution_count": 30,
   "metadata": {},
   "outputs": [
    {
     "data": {
      "text/plain": [
       "TensorShape([2, 4])"
      ]
     },
     "execution_count": 30,
     "metadata": {},
     "output_type": "execute_result"
    }
   ],
   "source": [
    "inputs = np.random.random([2, 5, 10]).astype(np.float32) #2 sample, 5 timestep RNN cell, 10 feature\n",
    "rnn = tf.keras.layers.RNN(tf.keras.layers.SimpleRNNCell(4)) # 4 = dimension of output\n",
    "\n",
    "output = rnn(inputs)  # The output has shape `[32, 4]`.\n",
    "output.shape"
   ]
  },
  {
   "cell_type": "code",
   "execution_count": 35,
   "metadata": {},
   "outputs": [],
   "source": [
    "def my_rnn_cell(previous_a, x, parameters):\n",
    "    Waa = parameters['Waa']\n",
    "    Wax = parameters['Wax']\n",
    "    Way = parameters['Way']\n",
    "    ba = parameters['ba']\n",
    "    by = parameters['by']\n",
    "    \n",
    "    hiddenstate = np.tanh(x * Wax + previous_a * Waa + ba)\n",
    "    y = np.softmax(hiddenstate * way + by)\n",
    "    return hiddenstate, y"
   ]
  },
  {
   "cell_type": "code",
   "execution_count": 40,
   "metadata": {},
   "outputs": [],
   "source": [
    "def weight_initialize():\n",
    "    parameters = {}\n",
    "    parameters['Wax'] = np.random.random(feature, a_feature) # X.shape(m, feature)\n",
    "    parameters['Waa'] = np.random.random(a_feature, )   #A.shape (m, a_unit)\n",
    "    parameters['ba'] = np.random.random(a_feature)\n",
    "    \n",
    "    parameters['Way'] = np.random.random(a_feature, y_feature)\n",
    "    parameters['by'] = np.random.random(y_feature)\n",
    "    return parameters"
   ]
  },
  {
   "cell_type": "code",
   "execution_count": 39,
   "metadata": {},
   "outputs": [],
   "source": [
    "def rnn_foward(timestep, X):\n",
    "    parameters = weight_initialize()\n",
    "    \n",
    "    hiddenstate_ y = my_rnn_cell(a0,X,parameters)\n",
    "    for i in range(1,len(timestep)):\n",
    "        hiddenstate, y = my_rnn_cell(hiddenstate, X, parameters)\n",
    "    "
   ]
  },
  {
   "cell_type": "code",
   "execution_count": null,
   "metadata": {},
   "outputs": [],
   "source": []
  }
 ],
 "metadata": {
  "kernelspec": {
   "display_name": "Python 3",
   "language": "python",
   "name": "python3"
  },
  "language_info": {
   "codemirror_mode": {
    "name": "ipython",
    "version": 3
   },
   "file_extension": ".py",
   "mimetype": "text/x-python",
   "name": "python",
   "nbconvert_exporter": "python",
   "pygments_lexer": "ipython3",
   "version": "3.6.9"
  }
 },
 "nbformat": 4,
 "nbformat_minor": 2
}
