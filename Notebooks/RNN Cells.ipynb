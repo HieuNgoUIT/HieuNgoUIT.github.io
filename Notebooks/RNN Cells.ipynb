{
 "cells": [
  {
   "cell_type": "code",
   "execution_count": 1,
   "metadata": {},
   "outputs": [],
   "source": [
    "import tensorflow as tf\n",
    "import numpy as np"
   ]
  },
  {
   "cell_type": "code",
   "execution_count": 3,
   "metadata": {},
   "outputs": [],
   "source": [
    "inputs = np.random.random([32, 10, 8]).astype(np.float32) #[batch, timesteps, feature]\n",
    "simple_rnn = tf.keras.layers.SimpleRNN(4) #vector hiddenstate dimension 4\n",
    "\n",
    "output = simple_rnn(inputs)  # The output has shape `[32, 4]`.\n",
    "\n",
    "simple_rnn = tf.keras.layers.SimpleRNN(\n",
    "    4, return_sequences=True, return_state=True)\n",
    "\n",
    "# whole_sequence_output has shape `[32, 10, 4]`.\n",
    "# final_state has shape `[32, 4]`.\n",
    "whole_sequence_output, final_state = simple_rnn(inputs)"
   ]
  },
  {
   "cell_type": "code",
   "execution_count": 12,
   "metadata": {},
   "outputs": [
    {
     "data": {
      "text/plain": [
       "<tf.Tensor: shape=(32, 4), dtype=float32, numpy=\n",
       "array([[ 0.93690854,  0.6146919 ,  0.8546216 , -0.30172756],\n",
       "       [ 0.25319186, -0.5147727 ,  0.76726186, -0.7067347 ],\n",
       "       [ 0.75911313, -0.8765107 ,  0.8193046 , -0.5521642 ],\n",
       "       [ 0.9179154 , -0.3317804 ,  0.75875723, -0.7594445 ],\n",
       "       [ 0.8229867 , -0.03933562,  0.7770844 , -0.6783605 ],\n",
       "       [ 0.9750405 , -0.12753958,  0.44718954, -0.0568545 ],\n",
       "       [ 0.79678625,  0.17967801,  0.89300394, -0.59241664],\n",
       "       [ 0.9322466 , -0.14319092,  0.75558484, -0.29717752],\n",
       "       [ 0.81648445, -0.6657647 ,  0.83413064, -0.72638464],\n",
       "       [ 0.93665147,  0.585959  ,  0.886692  ,  0.132833  ],\n",
       "       [ 0.8942023 ,  0.41117457,  0.8631669 , -0.18329233],\n",
       "       [ 0.7304065 , -0.5183556 ,  0.84853727, -0.60263944],\n",
       "       [ 0.91170144,  0.36245885, -0.4228938 , -0.8843282 ],\n",
       "       [ 0.6119555 , -0.48465988,  0.80363774, -0.639348  ],\n",
       "       [ 0.8333077 , -0.5170682 ,  0.7764074 , -0.33672732],\n",
       "       [ 0.87766385,  0.3894845 ,  0.7737222 , -0.7691478 ],\n",
       "       [ 0.89793056,  0.30427504,  0.26062986, -0.43691075],\n",
       "       [ 0.89210397, -0.22660282,  0.9121091 , -0.55624294],\n",
       "       [ 0.9073969 , -0.19254789,  0.42541414, -0.8088286 ],\n",
       "       [ 0.87389416, -0.4460192 ,  0.8044821 , -0.19949111],\n",
       "       [ 0.97708714,  0.0406287 ,  0.6033542 , -0.71353   ],\n",
       "       [ 0.85053205, -0.49864167,  0.86038417, -0.04611086],\n",
       "       [ 0.98601586,  0.54660726,  0.5763112 ,  0.41565672],\n",
       "       [ 0.8883555 ,  0.1535501 ,  0.3864228 , -0.71873915],\n",
       "       [ 0.5192439 , -0.70376146,  0.97645205, -0.10547169],\n",
       "       [ 0.8498894 ,  0.09567706,  0.6021039 , -0.87086946],\n",
       "       [ 0.9097169 , -0.5357061 ,  0.6349279 , -0.24544215],\n",
       "       [ 0.69278467, -0.2918812 ,  0.7741182 , -0.7475111 ],\n",
       "       [ 0.89252806,  0.50848794,  0.7973651 , -0.12961337],\n",
       "       [ 0.9377428 ,  0.08588503,  0.7743984 , -0.2116931 ],\n",
       "       [ 0.8423473 , -0.430648  ,  0.5924518 , -0.3114744 ],\n",
       "       [ 0.6206239 , -0.8211538 ,  0.92055774, -0.12395195]],\n",
       "      dtype=float32)>"
      ]
     },
     "execution_count": 12,
     "metadata": {},
     "output_type": "execute_result"
    }
   ],
   "source": [
    "final_state"
   ]
  },
  {
   "cell_type": "code",
   "execution_count": 25,
   "metadata": {},
   "outputs": [
    {
     "name": "stdout",
     "output_type": "stream",
     "text": [
      "(8, 4)\n",
      "(4, 4)\n",
      "(4,)\n"
     ]
    }
   ],
   "source": [
    "weights = simple_rnn.get_weights()\n",
    "for i in weights:\n",
    "    print(i.shape)\n",
    "# (8, 4) wax\n",
    "# (4, 4) waa\n",
    "# (4,) way"
   ]
  },
  {
   "cell_type": "code",
   "execution_count": 31,
   "metadata": {},
   "outputs": [
    {
     "name": "stdout",
     "output_type": "stream",
     "text": [
      "(8, 4)\n",
      "(4, 4)\n",
      "(4,)\n",
      "[[ 0.6171467   0.29153597  0.2561109   0.1801095 ]\n",
      " [ 0.5615799   0.23985416 -0.648728   -0.26105016]\n",
      " [ 0.6029144   0.6673818  -0.11119133 -0.03903353]\n",
      " [-0.24229565  0.33146435  0.28393203  0.2222184 ]\n",
      " [ 0.41002458  0.5501165   0.07717288  0.12989742]\n",
      " [-0.03963858 -0.54967546  0.33611542 -0.58931476]\n",
      " [-0.46924818 -0.15948027  0.26155     0.11409372]\n",
      " [ 0.24006271 -0.46091288  0.51203936  0.6519672 ]]\n",
      "[[ 0.8150269  -0.32981598  0.46676406 -0.0953087 ]\n",
      " [-0.437179   -0.29407734  0.66392684  0.5306544 ]\n",
      " [-0.34144998  0.02880062  0.44794577 -0.8257887 ]\n",
      " [ 0.1673842   0.8966105   0.37506923  0.16551487]]\n",
      "[0. 0. 0. 0.]\n"
     ]
    }
   ],
   "source": [
    "parameters = {}\n",
    "keras_Wax = weights[0] #lay weights tu` keras\n",
    "keras_Waa = weights[1] #lay weights tu` keras\n",
    "keras_Way = weights[2] #lay weights tu` keras\n",
    "parameters['Waa'] = keras_Waa\n",
    "parameters['Wax'] = keras_Wax\n",
    "parameters['Way'] = keras_Way\n",
    "print(keras_Wax.shape)\n",
    "print(keras_Waa.shape)\n",
    "print(keras_Way.shape)\n",
    "print(keras_Wax)\n",
    "print(keras_Waa) \n",
    "print(keras_Way) #way = 0 ##interesting"
   ]
  },
  {
   "cell_type": "code",
   "execution_count": 17,
   "metadata": {},
   "outputs": [],
   "source": [
    "def mysm(x):\n",
    "    return np.exp(x)/sum(np.exp(x))"
   ]
  },
  {
   "cell_type": "code",
   "execution_count": 27,
   "metadata": {},
   "outputs": [],
   "source": [
    "def my_rnn_cell(previous_a, x, parameters):\n",
    "    Waa = parameters['Waa']\n",
    "    Wax = parameters['Wax']\n",
    "    Way = parameters['Way']\n",
    "    #print('test',keras_Wax.shape)\n",
    "    #print('test',keras_Waa.shape)\n",
    "    #print('test',keras_Way.shape)\n",
    "    #ba = parameters['ba']\n",
    "    #by = parameters['by']\n",
    "    temp_a = np.dot(x,Wax) # (32, 8) * (8, 4)  =(32, 4) \n",
    "    temp_b = np.dot(previous_a, Waa) # (32,4) *  (4, 4) = (32, 4)\n",
    "    hiddenstate = np.tanh( temp_a+temp_b  )#+ ba)\n",
    "    y = mysm(np.dot(hiddenstate,Way))#+ by)\n",
    "    return hiddenstate, y\n",
    "\n",
    "def rnn_foward(inp):\n",
    "    timestep = 10\n",
    "    a_prev = np.zeros((32,4))\n",
    "    for t in range(timestep):\n",
    "        #print(a_prev.shape)\n",
    "        #print(inp[:,t,:].shape)\n",
    "        t_hiddenstate, t_y = my_rnn_cell(a_prev, inp[:,t,:], parameters)\n",
    "        #print(t_hiddenstate.shape)\n",
    "        a_prev = t_hiddenstate    \n",
    "    print(t_hiddenstate) #state cuoi cung"
   ]
  },
  {
   "cell_type": "code",
   "execution_count": 28,
   "metadata": {},
   "outputs": [
    {
     "name": "stdout",
     "output_type": "stream",
     "text": [
      "[[ 0.93690852  0.61469192  0.85462156 -0.30172753]\n",
      " [ 0.25319193 -0.51477268  0.76726178 -0.70673476]\n",
      " [ 0.75911316 -0.87651069  0.81930466 -0.55216416]\n",
      " [ 0.91791543 -0.33178043  0.75875719 -0.75944445]\n",
      " [ 0.82298671 -0.03933559  0.77708433 -0.6783605 ]\n",
      " [ 0.97504062 -0.12753968  0.4471895  -0.05685454]\n",
      " [ 0.79678623  0.1796781   0.89300388 -0.59241666]\n",
      " [ 0.93224659 -0.14319093  0.75558476 -0.29717756]\n",
      " [ 0.8164844  -0.6657647   0.83413069 -0.72638456]\n",
      " [ 0.93665143  0.58595899  0.886692    0.13283307]\n",
      " [ 0.8942023   0.41117461  0.86316705 -0.18329229]\n",
      " [ 0.73040648 -0.51835564  0.84853727 -0.60263935]\n",
      " [ 0.91170153  0.36245882 -0.42289373 -0.88432805]\n",
      " [ 0.61195542 -0.4846598   0.80363763 -0.63934788]\n",
      " [ 0.83330763 -0.51706818  0.77640742 -0.3367272 ]\n",
      " [ 0.87766383  0.3894846   0.77372214 -0.76914784]\n",
      " [ 0.8979305   0.30427496  0.26062991 -0.43691072]\n",
      " [ 0.89210396 -0.22660277  0.91210914 -0.55624297]\n",
      " [ 0.90739691 -0.19254784  0.42541409 -0.80882852]\n",
      " [ 0.87389408 -0.44601914  0.80448209 -0.19949119]\n",
      " [ 0.97708718  0.04062874  0.60335415 -0.71352993]\n",
      " [ 0.85053205 -0.49864164  0.86038414 -0.04611078]\n",
      " [ 0.98601573  0.54660728  0.5763111   0.41565669]\n",
      " [ 0.88835545  0.15355016  0.38642274 -0.71873898]\n",
      " [ 0.51924392 -0.70376136  0.97645206 -0.10547169]\n",
      " [ 0.8498894   0.09567719  0.60210389 -0.87086946]\n",
      " [ 0.90971692 -0.53570613  0.63492803 -0.24544218]\n",
      " [ 0.69278471 -0.29188134  0.77411812 -0.74751096]\n",
      " [ 0.89252804  0.50848791  0.79736514 -0.12961337]\n",
      " [ 0.93774285  0.08588502  0.7743984  -0.21169316]\n",
      " [ 0.84234732 -0.43064792  0.59245177 -0.31147451]\n",
      " [ 0.62062379 -0.82115377  0.92055768 -0.12395205]]\n"
     ]
    }
   ],
   "source": [
    "rnn_foward(inputs)"
   ]
  },
  {
   "cell_type": "code",
   "execution_count": null,
   "metadata": {},
   "outputs": [],
   "source": []
  },
  {
   "cell_type": "code",
   "execution_count": null,
   "metadata": {},
   "outputs": [],
   "source": []
  },
  {
   "cell_type": "code",
   "execution_count": 29,
   "metadata": {},
   "outputs": [],
   "source": [
    "###BACKWARD###"
   ]
  },
  {
   "cell_type": "code",
   "execution_count": null,
   "metadata": {},
   "outputs": [],
   "source": []
  },
  {
   "cell_type": "code",
   "execution_count": null,
   "metadata": {},
   "outputs": [],
   "source": []
  }
 ],
 "metadata": {
  "kernelspec": {
   "display_name": "Python 3",
   "language": "python",
   "name": "python3"
  },
  "language_info": {
   "codemirror_mode": {
    "name": "ipython",
    "version": 3
   },
   "file_extension": ".py",
   "mimetype": "text/x-python",
   "name": "python",
   "nbconvert_exporter": "python",
   "pygments_lexer": "ipython3",
   "version": "3.7.7"
  }
 },
 "nbformat": 4,
 "nbformat_minor": 2
}
